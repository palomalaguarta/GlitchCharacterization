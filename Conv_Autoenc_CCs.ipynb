{
 "cells": [
  {
   "cell_type": "code",
   "execution_count": 176,
   "id": "4ad66894-139b-4a28-9f23-fbbc1aa09320",
   "metadata": {
    "tags": []
   },
   "outputs": [],
   "source": [
    "import numpy as np\n",
    "import h5py\n",
    "import pandas as pd\n",
    "import matplotlib.pyplot as plt\n",
    "import seaborn as sns\n",
    "import numpy as np\n",
    "import h5py"
   ]
  },
  {
   "cell_type": "code",
   "execution_count": 177,
   "id": "9abf8819-c287-4705-9d21-f1feb8d7dad4",
   "metadata": {
    "tags": []
   },
   "outputs": [],
   "source": [
    "import tensorflow as tf\n",
    "from tensorflow import keras\n",
    "from tensorflow import Tensor\n",
    "from tensorflow.keras import layers\n",
    "from tensorflow.keras.layers import Input, Add, Dense, Activation, ZeroPadding2D, BatchNormalization, Reshape, Flatten, Conv2D, AveragePooling2D, MaxPooling2D, UpSampling2D, GlobalMaxPooling2D, Conv2DTranspose\n",
    "from tensorflow.keras.initializers import glorot_uniform\n",
    "from tensorflow.keras.models import Model, load_model\n",
    "from tensorflow.python.keras.utils import layer_utils\n",
    "from tensorflow.keras.utils import model_to_dot\n",
    "from keras.utils.vis_utils import plot_model\n",
    "from keras.callbacks import CSVLogger\n",
    "import keras.models\n",
    "from typing import List, Tuple\n",
    "from time import time\n",
    "from sklearn.cluster import KMeans\n",
    "from sklearn.decomposition import PCA\n",
    "from sklearn.manifold import TSNE\n",
    "import matplotlib.pyplot as plt"
   ]
  },
  {
   "cell_type": "code",
   "execution_count": null,
   "id": "1134ef54-d080-42a9-a585-0ac549a3bfdd",
   "metadata": {
    "tags": []
   },
   "outputs": [],
   "source": [
    "!pip install TensorRT"
   ]
  },
  {
   "cell_type": "code",
   "execution_count": 178,
   "id": "489e5c8f-62f7-46ea-bf8a-39fc247d9dc3",
   "metadata": {},
   "outputs": [],
   "source": [
    "h = h5py.File('new_reduced_data.h5', 'r')"
   ]
  },
  {
   "cell_type": "code",
   "execution_count": 179,
   "id": "f3faae95-b2f3-48e7-8c1c-d42f09055a5c",
   "metadata": {},
   "outputs": [],
   "source": [
    "glitches = h['new_glitches'][:]"
   ]
  },
  {
   "cell_type": "code",
   "execution_count": 180,
   "id": "678eeae4-7cb6-4627-87fc-0b051481f489",
   "metadata": {
    "tags": []
   },
   "outputs": [],
   "source": [
    "glitch_labels = h['glitch_labels'][:]"
   ]
  },
  {
   "cell_type": "code",
   "execution_count": 181,
   "id": "f210aed8-7b0b-45b0-a4ad-8e14df5fc44d",
   "metadata": {},
   "outputs": [],
   "source": [
    "# separating the instances\n",
    "norm_data = h['new_clean'][:]\n",
    "norm_labels = h['clean_labels'][:]\n",
    "anom1_data = h['new_whistle'][:]\n",
    "anom1_labels = h['whistle_labels'][:]\n",
    "anom2_data = h['new_tomte'][:]\n",
    "anom2_labels = h['tomte_labels'][:]\n",
    "anom3_data = h['new_sclight'][:]\n",
    "anom3_labels = h['sclight_labels'][:]"
   ]
  },
  {
   "cell_type": "code",
   "execution_count": 182,
   "id": "784d8aad-ada1-41a0-b97b-52e20cdbbe35",
   "metadata": {},
   "outputs": [],
   "source": [
    "def convolution_1d(X: tf.Tensor, filters: List[int], kernel: Tuple[int,int], s: Tuple[int,int], padding:str, name: str) -> tf.Tensor:\n",
    "    f1 = filters\n",
    "    \n",
    "    X = Conv2D(filters=f1, kernel_size=kernel, strides=s, padding=padding, name=name)(X)\n",
    "    X = Activation('relu')(X)\n",
    "    \n",
    "    return X"
   ]
  },
  {
   "cell_type": "code",
   "execution_count": 183,
   "id": "ad36ffc6-54d9-43e8-bb12-939e9eec48bd",
   "metadata": {},
   "outputs": [],
   "source": [
    "def deconvolution_1d(X: tf.Tensor, filters: List[int], kernel: Tuple[int,int], s: Tuple[int,int], padding:str, name: str) -> tf.Tensor:\n",
    "    f1 = filters\n",
    "    \n",
    "    X = Conv2DTranspose(filters=f1, kernel_size=kernel, strides=s, padding=padding, name=name)(X)\n",
    "    X = Activation('relu')(X)\n",
    "    \n",
    "    return X"
   ]
  },
  {
   "cell_type": "code",
   "execution_count": 193,
   "id": "d2c1765b-3b4e-4615-9902-57c1ce829f56",
   "metadata": {},
   "outputs": [],
   "source": [
    "def Net(input_size: Tuple[int,int,int]) -> Model:\n",
    "    X_input1 = Input(input_size)\n",
    "    \n",
    "    X_input2 = X_input1*1\n",
    "    \n",
    "    tensor_shape = tf.shape(X_input2)\n",
    "    \n",
    "    X_input2 = tf.slice(X_input2, [0, 0, 0, 0], [-1, tensor_shape[1] - 1, -1, -1])\n",
    "    \n",
    "    X = tf.concat((X_input1, X_input2), axis=1)\n",
    "    \n",
    "    X = convolution_1d(X, filters=120, kernel=(X_input1.shape[1],1), s=(1, 1), padding='valid', name='convolution_1')\n",
    "    \n",
    "    X = convolution_1d(X, filters=150, kernel=(5,1), s=(2, 1), padding='same', name='convolution_2')\n",
    "    \n",
    "    X = convolution_1d(X, filters=150, kernel=(5,1), s=(5, 1), padding='same', name='convolution_3')\n",
    "    \n",
    "    X = deconvolution_1d(X, filters=120, kernel=(5,1), s=(5, 1), padding='same', name='deconvolution_1')\n",
    "    \n",
    "    X = deconvolution_1d(X, filters=1, kernel=(5,1), s=(2, 1), padding='same', name='deconvolution_2')\n",
    "        \n",
    "    # Create model\n",
    "    model = Model(inputs=X_input1, outputs=X, name='ConvAutoEnc')\n",
    "\n",
    "    return model"
   ]
  },
  {
   "cell_type": "code",
   "execution_count": 194,
   "id": "80f8f49c-9582-40ec-9ba5-e1b44094568b",
   "metadata": {},
   "outputs": [],
   "source": [
    "model = Net(input_size = (50, 56, 1))"
   ]
  },
  {
   "cell_type": "code",
   "execution_count": null,
   "id": "00a9415d-1fe6-4531-a3d2-90aea752afd7",
   "metadata": {},
   "outputs": [],
   "source": [
    "model.summary()"
   ]
  },
  {
   "cell_type": "code",
   "execution_count": null,
   "id": "847f8fec-5141-4809-a794-b323decb136d",
   "metadata": {
    "scrolled": true,
    "tags": []
   },
   "outputs": [],
   "source": [
    "model.compile(optimizer=keras.optimizers.Adam(learning_rate=0.001), loss='mse')\n",
    "csv_logger = CSVLogger('training.log')\n",
    "t0 = time()\n",
    "history = model.fit(glitches, glitches, batch_size=168, epochs=500, callbacks=[csv_logger])\n",
    "print('Training time: ', time() - t0)"
   ]
  },
  {
   "cell_type": "code",
   "execution_count": 205,
   "id": "5c7e544e-60e7-421b-9358-17ea70e3c123",
   "metadata": {},
   "outputs": [
    {
     "name": "stdout",
     "output_type": "stream",
     "text": [
      "84/84 [==============================] - 2s 25ms/step\n",
      "feature shape= (2688, 5, 56, 150)\n"
     ]
    }
   ],
   "source": [
    "# we can now extract the features of the data\n",
    "feature_model = Model(inputs=model.input, outputs=model.get_layer(name='convolution_3').output)\n",
    "features = feature_model.predict(glitches)\n",
    "print('feature shape=', features.shape)"
   ]
  },
  {
   "cell_type": "code",
   "execution_count": 206,
   "id": "54c8eca4-99d7-4c93-b948-1287703a52bb",
   "metadata": {},
   "outputs": [],
   "source": [
    "features1 = np.reshape(features, newshape=(features.shape[0], -1))"
   ]
  },
  {
   "cell_type": "code",
   "execution_count": null,
   "id": "8d79224a-57bf-42a5-b259-e92197bebbcc",
   "metadata": {},
   "outputs": [],
   "source": [
    "# let us visualize\n",
    "tSNE = TSNE(n_components=2, learning_rate='auto')\n",
    "X_tsne = tSNE.fit_transform(features1)"
   ]
  },
  {
   "cell_type": "code",
   "execution_count": null,
   "id": "ce6805d6-5d46-4403-91a2-b9425f90dd7a",
   "metadata": {},
   "outputs": [],
   "source": [
    "plot = plt.scatter(X_tsne[:,0], X_tsne[:,1], s=10, c=glitch_labels, alpha=0.7)\n",
    "#plt.scatter(X_tsne[idxs[:],0], X_tsne[idxs[:],1], s=20, c='red')\n",
    "plt.legend(handles=plot.legend_elements()[0], labels=['Whistle', 'Tomte', 'Scattered light'])\n",
    "plt.ylabel('t-SNE dimension 2')\n",
    "plt.xlabel('t-SNE dimension 1')\n",
    "plt.title('Embedded space of glitches')\n",
    "plt.show()"
   ]
  }
 ],
 "metadata": {
  "kernelspec": {
   "display_name": "igwn-py39",
   "language": "python",
   "name": "igwn-py39"
  },
  "language_info": {
   "codemirror_mode": {
    "name": "ipython",
    "version": 3
   },
   "file_extension": ".py",
   "mimetype": "text/x-python",
   "name": "python",
   "nbconvert_exporter": "python",
   "pygments_lexer": "ipython3",
   "version": "3.9.16"
  }
 },
 "nbformat": 4,
 "nbformat_minor": 5
}
